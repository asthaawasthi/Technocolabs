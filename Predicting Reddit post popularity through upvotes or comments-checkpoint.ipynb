{
 "cells": [
  {
   "cell_type": "markdown",
   "metadata": {},
   "source": [
    "# Loading DATA "
   ]
  },
  {
   "cell_type": "code",
   "execution_count": 1,
   "metadata": {},
   "outputs": [],
   "source": [
    "import pandas as pd\n",
    "import numpy as np\n",
    "import seaborn as sns\n",
    "import matplotlib.pyplot as plt"
   ]
  },
  {
   "cell_type": "code",
   "execution_count": 2,
   "metadata": {},
   "outputs": [
    {
     "data": {
      "text/html": [
       "<div>\n",
       "<style scoped>\n",
       "    .dataframe tbody tr th:only-of-type {\n",
       "        vertical-align: middle;\n",
       "    }\n",
       "\n",
       "    .dataframe tbody tr th {\n",
       "        vertical-align: top;\n",
       "    }\n",
       "\n",
       "    .dataframe thead th {\n",
       "        text-align: right;\n",
       "    }\n",
       "</style>\n",
       "<table border=\"1\" class=\"dataframe\">\n",
       "  <thead>\n",
       "    <tr style=\"text-align: right;\">\n",
       "      <th></th>\n",
       "      <th>Unnamed: 0</th>\n",
       "      <th>Title</th>\n",
       "      <th>Upvote_ratio</th>\n",
       "      <th>Score</th>\n",
       "      <th>Gilded</th>\n",
       "      <th>Over_18</th>\n",
       "      <th>Number_of_Comments</th>\n",
       "      <th>neg</th>\n",
       "      <th>neu</th>\n",
       "      <th>pos</th>\n",
       "      <th>compound</th>\n",
       "    </tr>\n",
       "  </thead>\n",
       "  <tbody>\n",
       "    <tr>\n",
       "      <th>0</th>\n",
       "      <td>0</td>\n",
       "      <td>House impeaches Trump for second time over Cap...</td>\n",
       "      <td>0.72</td>\n",
       "      <td>39464</td>\n",
       "      <td>2</td>\n",
       "      <td>False</td>\n",
       "      <td>8801</td>\n",
       "      <td>0.292</td>\n",
       "      <td>0.708</td>\n",
       "      <td>0.000</td>\n",
       "      <td>-0.5106</td>\n",
       "    </tr>\n",
       "    <tr>\n",
       "      <th>1</th>\n",
       "      <td>1</td>\n",
       "      <td>I'm a 16 yr old blacksmith and I forged this w...</td>\n",
       "      <td>0.90</td>\n",
       "      <td>29423</td>\n",
       "      <td>0</td>\n",
       "      <td>False</td>\n",
       "      <td>443</td>\n",
       "      <td>0.000</td>\n",
       "      <td>0.633</td>\n",
       "      <td>0.367</td>\n",
       "      <td>0.8268</td>\n",
       "    </tr>\n",
       "    <tr>\n",
       "      <th>2</th>\n",
       "      <td>2</td>\n",
       "      <td>Do some research before spouting nonsense</td>\n",
       "      <td>0.90</td>\n",
       "      <td>50420</td>\n",
       "      <td>0</td>\n",
       "      <td>False</td>\n",
       "      <td>1008</td>\n",
       "      <td>0.351</td>\n",
       "      <td>0.649</td>\n",
       "      <td>0.000</td>\n",
       "      <td>-0.4019</td>\n",
       "    </tr>\n",
       "    <tr>\n",
       "      <th>3</th>\n",
       "      <td>3</td>\n",
       "      <td>Moving boxes arrive at the White House</td>\n",
       "      <td>0.81</td>\n",
       "      <td>149858</td>\n",
       "      <td>6</td>\n",
       "      <td>False</td>\n",
       "      <td>4392</td>\n",
       "      <td>0.000</td>\n",
       "      <td>1.000</td>\n",
       "      <td>0.000</td>\n",
       "      <td>0.0000</td>\n",
       "    </tr>\n",
       "    <tr>\n",
       "      <th>4</th>\n",
       "      <td>4</td>\n",
       "      <td>“No One Took Us Seriously”: Black Cops Warned ...</td>\n",
       "      <td>0.98</td>\n",
       "      <td>7768</td>\n",
       "      <td>0</td>\n",
       "      <td>False</td>\n",
       "      <td>157</td>\n",
       "      <td>0.319</td>\n",
       "      <td>0.681</td>\n",
       "      <td>0.000</td>\n",
       "      <td>-0.7269</td>\n",
       "    </tr>\n",
       "    <tr>\n",
       "      <th>5</th>\n",
       "      <td>5</td>\n",
       "      <td>US bans all cotton and tomato products from Xi...</td>\n",
       "      <td>0.88</td>\n",
       "      <td>112303</td>\n",
       "      <td>0</td>\n",
       "      <td>False</td>\n",
       "      <td>4072</td>\n",
       "      <td>0.000</td>\n",
       "      <td>1.000</td>\n",
       "      <td>0.000</td>\n",
       "      <td>0.0000</td>\n",
       "    </tr>\n",
       "    <tr>\n",
       "      <th>6</th>\n",
       "      <td>6</td>\n",
       "      <td>Urban explorer of Reddit, what was your \"I bet...</td>\n",
       "      <td>0.93</td>\n",
       "      <td>30184</td>\n",
       "      <td>0</td>\n",
       "      <td>True</td>\n",
       "      <td>3666</td>\n",
       "      <td>0.000</td>\n",
       "      <td>0.775</td>\n",
       "      <td>0.225</td>\n",
       "      <td>0.4404</td>\n",
       "    </tr>\n",
       "    <tr>\n",
       "      <th>7</th>\n",
       "      <td>7</td>\n",
       "      <td>LPT: As a lawyer, don't take legal advice from...</td>\n",
       "      <td>0.94</td>\n",
       "      <td>32876</td>\n",
       "      <td>0</td>\n",
       "      <td>False</td>\n",
       "      <td>1766</td>\n",
       "      <td>0.132</td>\n",
       "      <td>0.868</td>\n",
       "      <td>0.000</td>\n",
       "      <td>-0.0951</td>\n",
       "    </tr>\n",
       "    <tr>\n",
       "      <th>8</th>\n",
       "      <td>8</td>\n",
       "      <td>Pirate Bay Founder Thinks Parler’s Inability t...</td>\n",
       "      <td>0.88</td>\n",
       "      <td>79607</td>\n",
       "      <td>2</td>\n",
       "      <td>False</td>\n",
       "      <td>3338</td>\n",
       "      <td>0.213</td>\n",
       "      <td>0.787</td>\n",
       "      <td>0.000</td>\n",
       "      <td>-0.4019</td>\n",
       "    </tr>\n",
       "    <tr>\n",
       "      <th>9</th>\n",
       "      <td>9</td>\n",
       "      <td>GME YOLO update — Jan 13 2021</td>\n",
       "      <td>0.89</td>\n",
       "      <td>37315</td>\n",
       "      <td>17</td>\n",
       "      <td>False</td>\n",
       "      <td>3016</td>\n",
       "      <td>0.000</td>\n",
       "      <td>0.679</td>\n",
       "      <td>0.321</td>\n",
       "      <td>0.4278</td>\n",
       "    </tr>\n",
       "  </tbody>\n",
       "</table>\n",
       "</div>"
      ],
      "text/plain": [
       "   Unnamed: 0                                              Title  \\\n",
       "0           0  House impeaches Trump for second time over Cap...   \n",
       "1           1  I'm a 16 yr old blacksmith and I forged this w...   \n",
       "2           2          Do some research before spouting nonsense   \n",
       "3           3             Moving boxes arrive at the White House   \n",
       "4           4  “No One Took Us Seriously”: Black Cops Warned ...   \n",
       "5           5  US bans all cotton and tomato products from Xi...   \n",
       "6           6  Urban explorer of Reddit, what was your \"I bet...   \n",
       "7           7  LPT: As a lawyer, don't take legal advice from...   \n",
       "8           8  Pirate Bay Founder Thinks Parler’s Inability t...   \n",
       "9           9                      GME YOLO update — Jan 13 2021   \n",
       "\n",
       "   Upvote_ratio   Score  Gilded  Over_18  Number_of_Comments    neg    neu  \\\n",
       "0          0.72   39464       2    False                8801  0.292  0.708   \n",
       "1          0.90   29423       0    False                 443  0.000  0.633   \n",
       "2          0.90   50420       0    False                1008  0.351  0.649   \n",
       "3          0.81  149858       6    False                4392  0.000  1.000   \n",
       "4          0.98    7768       0    False                 157  0.319  0.681   \n",
       "5          0.88  112303       0    False                4072  0.000  1.000   \n",
       "6          0.93   30184       0     True                3666  0.000  0.775   \n",
       "7          0.94   32876       0    False                1766  0.132  0.868   \n",
       "8          0.88   79607       2    False                3338  0.213  0.787   \n",
       "9          0.89   37315      17    False                3016  0.000  0.679   \n",
       "\n",
       "     pos  compound  \n",
       "0  0.000   -0.5106  \n",
       "1  0.367    0.8268  \n",
       "2  0.000   -0.4019  \n",
       "3  0.000    0.0000  \n",
       "4  0.000   -0.7269  \n",
       "5  0.000    0.0000  \n",
       "6  0.225    0.4404  \n",
       "7  0.000   -0.0951  \n",
       "8  0.000   -0.4019  \n",
       "9  0.321    0.4278  "
      ]
     },
     "execution_count": 2,
     "metadata": {},
     "output_type": "execute_result"
    }
   ],
   "source": [
    "df_modelling1=pd.read_csv('final.csv')\n",
    "df_modelling1.head(10)"
   ]
  },
  {
   "cell_type": "code",
   "execution_count": 3,
   "metadata": {},
   "outputs": [
    {
     "data": {
      "text/html": [
       "<div>\n",
       "<style scoped>\n",
       "    .dataframe tbody tr th:only-of-type {\n",
       "        vertical-align: middle;\n",
       "    }\n",
       "\n",
       "    .dataframe tbody tr th {\n",
       "        vertical-align: top;\n",
       "    }\n",
       "\n",
       "    .dataframe thead th {\n",
       "        text-align: right;\n",
       "    }\n",
       "</style>\n",
       "<table border=\"1\" class=\"dataframe\">\n",
       "  <thead>\n",
       "    <tr style=\"text-align: right;\">\n",
       "      <th></th>\n",
       "      <th>Upvote_ratio</th>\n",
       "      <th>Score</th>\n",
       "      <th>Gilded</th>\n",
       "      <th>Number_of_Comments</th>\n",
       "      <th>neg</th>\n",
       "      <th>neu</th>\n",
       "      <th>pos</th>\n",
       "      <th>compound</th>\n",
       "    </tr>\n",
       "  </thead>\n",
       "  <tbody>\n",
       "    <tr>\n",
       "      <th>count</th>\n",
       "      <td>7471.000000</td>\n",
       "      <td>7471.000000</td>\n",
       "      <td>7471.000000</td>\n",
       "      <td>7471.000000</td>\n",
       "      <td>7471.000000</td>\n",
       "      <td>7471.000000</td>\n",
       "      <td>7471.000000</td>\n",
       "      <td>7471.000000</td>\n",
       "    </tr>\n",
       "    <tr>\n",
       "      <th>mean</th>\n",
       "      <td>0.970517</td>\n",
       "      <td>3960.950609</td>\n",
       "      <td>0.054477</td>\n",
       "      <td>100.394191</td>\n",
       "      <td>0.072083</td>\n",
       "      <td>0.809740</td>\n",
       "      <td>0.118174</td>\n",
       "      <td>0.061779</td>\n",
       "    </tr>\n",
       "    <tr>\n",
       "      <th>std</th>\n",
       "      <td>0.032544</td>\n",
       "      <td>10657.376656</td>\n",
       "      <td>0.382486</td>\n",
       "      <td>452.414870</td>\n",
       "      <td>0.158596</td>\n",
       "      <td>0.238514</td>\n",
       "      <td>0.201699</td>\n",
       "      <td>0.352541</td>\n",
       "    </tr>\n",
       "    <tr>\n",
       "      <th>min</th>\n",
       "      <td>0.630000</td>\n",
       "      <td>53.000000</td>\n",
       "      <td>0.000000</td>\n",
       "      <td>0.000000</td>\n",
       "      <td>0.000000</td>\n",
       "      <td>0.000000</td>\n",
       "      <td>0.000000</td>\n",
       "      <td>-0.970900</td>\n",
       "    </tr>\n",
       "    <tr>\n",
       "      <th>25%</th>\n",
       "      <td>0.960000</td>\n",
       "      <td>283.000000</td>\n",
       "      <td>0.000000</td>\n",
       "      <td>10.000000</td>\n",
       "      <td>0.000000</td>\n",
       "      <td>0.649500</td>\n",
       "      <td>0.000000</td>\n",
       "      <td>0.000000</td>\n",
       "    </tr>\n",
       "    <tr>\n",
       "      <th>50%</th>\n",
       "      <td>0.980000</td>\n",
       "      <td>796.000000</td>\n",
       "      <td>0.000000</td>\n",
       "      <td>26.000000</td>\n",
       "      <td>0.000000</td>\n",
       "      <td>1.000000</td>\n",
       "      <td>0.000000</td>\n",
       "      <td>0.000000</td>\n",
       "    </tr>\n",
       "    <tr>\n",
       "      <th>75%</th>\n",
       "      <td>0.990000</td>\n",
       "      <td>2703.500000</td>\n",
       "      <td>0.000000</td>\n",
       "      <td>73.000000</td>\n",
       "      <td>0.000000</td>\n",
       "      <td>1.000000</td>\n",
       "      <td>0.198000</td>\n",
       "      <td>0.296000</td>\n",
       "    </tr>\n",
       "    <tr>\n",
       "      <th>max</th>\n",
       "      <td>1.000000</td>\n",
       "      <td>169633.000000</td>\n",
       "      <td>17.000000</td>\n",
       "      <td>24155.000000</td>\n",
       "      <td>1.000000</td>\n",
       "      <td>1.000000</td>\n",
       "      <td>1.000000</td>\n",
       "      <td>0.973500</td>\n",
       "    </tr>\n",
       "  </tbody>\n",
       "</table>\n",
       "</div>"
      ],
      "text/plain": [
       "       Upvote_ratio          Score       Gilded  Number_of_Comments  \\\n",
       "count   7471.000000    7471.000000  7471.000000         7471.000000   \n",
       "mean       0.970517    3960.950609     0.054477          100.394191   \n",
       "std        0.032544   10657.376656     0.382486          452.414870   \n",
       "min        0.630000      53.000000     0.000000            0.000000   \n",
       "25%        0.960000     283.000000     0.000000           10.000000   \n",
       "50%        0.980000     796.000000     0.000000           26.000000   \n",
       "75%        0.990000    2703.500000     0.000000           73.000000   \n",
       "max        1.000000  169633.000000    17.000000        24155.000000   \n",
       "\n",
       "               neg          neu          pos     compound  \n",
       "count  7471.000000  7471.000000  7471.000000  7471.000000  \n",
       "mean      0.072083     0.809740     0.118174     0.061779  \n",
       "std       0.158596     0.238514     0.201699     0.352541  \n",
       "min       0.000000     0.000000     0.000000    -0.970900  \n",
       "25%       0.000000     0.649500     0.000000     0.000000  \n",
       "50%       0.000000     1.000000     0.000000     0.000000  \n",
       "75%       0.000000     1.000000     0.198000     0.296000  \n",
       "max       1.000000     1.000000     1.000000     0.973500  "
      ]
     },
     "execution_count": 3,
     "metadata": {},
     "output_type": "execute_result"
    }
   ],
   "source": [
    "df_model1=df_modelling1.drop('Unnamed: 0',axis=1)\n",
    "df_model1.describe()"
   ]
  },
  {
   "cell_type": "code",
   "execution_count": 4,
   "metadata": {},
   "outputs": [
    {
     "data": {
      "text/plain": [
       "Index(['Title', 'Upvote_ratio', 'Score', 'Gilded', 'Over_18',\n",
       "       'Number_of_Comments', 'neg', 'neu', 'pos', 'compound'],\n",
       "      dtype='object')"
      ]
     },
     "execution_count": 4,
     "metadata": {},
     "output_type": "execute_result"
    }
   ],
   "source": [
    "df_model1.keys()"
   ]
  },
  {
   "cell_type": "code",
   "execution_count": 5,
   "metadata": {},
   "outputs": [
    {
     "name": "stdout",
     "output_type": "stream",
     "text": [
      "<class 'pandas.core.frame.DataFrame'>\n",
      "RangeIndex: 7471 entries, 0 to 7470\n",
      "Data columns (total 10 columns):\n",
      " #   Column              Non-Null Count  Dtype  \n",
      "---  ------              --------------  -----  \n",
      " 0   Title               7471 non-null   object \n",
      " 1   Upvote_ratio        7471 non-null   float64\n",
      " 2   Score               7471 non-null   int64  \n",
      " 3   Gilded              7471 non-null   int64  \n",
      " 4   Over_18             7471 non-null   bool   \n",
      " 5   Number_of_Comments  7471 non-null   int64  \n",
      " 6   neg                 7471 non-null   float64\n",
      " 7   neu                 7471 non-null   float64\n",
      " 8   pos                 7471 non-null   float64\n",
      " 9   compound            7471 non-null   float64\n",
      "dtypes: bool(1), float64(5), int64(3), object(1)\n",
      "memory usage: 532.7+ KB\n"
     ]
    }
   ],
   "source": [
    "df_model1.info()"
   ]
  },
  {
   "cell_type": "code",
   "execution_count": 6,
   "metadata": {},
   "outputs": [
    {
     "data": {
      "text/plain": [
       "(7471, 10)"
      ]
     },
     "execution_count": 6,
     "metadata": {},
     "output_type": "execute_result"
    }
   ],
   "source": [
    "df_model1.shape"
   ]
  },
  {
   "cell_type": "code",
   "execution_count": 7,
   "metadata": {},
   "outputs": [
    {
     "data": {
      "text/plain": [
       "Title                 7188\n",
       "Upvote_ratio            33\n",
       "Score                 3577\n",
       "Gilded                   9\n",
       "Over_18                  2\n",
       "Number_of_Comments     618\n",
       "neg                    510\n",
       "neu                    671\n",
       "pos                    583\n",
       "compound               796\n",
       "dtype: int64"
      ]
     },
     "execution_count": 7,
     "metadata": {},
     "output_type": "execute_result"
    }
   ],
   "source": [
    "df_model1.nunique()"
   ]
  },
  {
   "cell_type": "markdown",
   "metadata": {},
   "source": [
    "# Data Visualization"
   ]
  },
  {
   "cell_type": "code",
   "execution_count": 8,
   "metadata": {},
   "outputs": [
    {
     "data": {
      "image/png": "[encoded data removed]",
      "text/plain": [
       "<Figure size 432x288 with 1 Axes>"
      ]
     },
     "metadata": {
      "needs_background": "light"
     },
     "output_type": "display_data"
    }
   ],
   "source": [
    "df_model1.plot(x=\"Upvote_ratio\",y=\"Score\",style=\"o\")\n",
    "\n",
    "plt.xlabel(\"Upvote_ratio\")\n",
    "plt.ylabel(\"Score\")\n",
    "plt.show()"
   ]
  },
  {
   "cell_type": "code",
   "execution_count": 9,
   "metadata": {},
   "outputs": [
    {
     "data": {
      "text/plain": [
       "<AxesSubplot:xlabel='Number_of_Comments'>"
      ]
     },
     "execution_count": 9,
     "metadata": {},
     "output_type": "execute_result"
    },
    {
     "data": {
      "image/png": "[encoded data removed]",
      "text/plain": [
       "<Figure size 432x288 with 1 Axes>"
      ]
     },
     "metadata": {
      "needs_background": "light"
     },
     "output_type": "display_data"
    }
   ],
   "source": [
    "df_model1.plot(x=\"Number_of_Comments\",y=\"Score\",style=\"o\")"
   ]
  },
  {
   "cell_type": "markdown",
   "metadata": {},
   "source": [
    "More Comments low Score "
   ]
  },
  {
   "cell_type": "code",
   "execution_count": 10,
   "metadata": {},
   "outputs": [
    {
     "data": {
      "text/plain": [
       "<AxesSubplot:xlabel='Gilded'>"
      ]
     },
     "execution_count": 10,
     "metadata": {},
     "output_type": "execute_result"
    },
    {
     "data": {
      "image/png": "[encoded data removed]",
      "text/plain": [
       "<Figure size 432x288 with 1 Axes>"
      ]
     },
     "metadata": {
      "needs_background": "light"
     },
     "output_type": "display_data"
    }
   ],
   "source": [
    "df_model1.plot(x=\"Gilded\",y=\"Score\",style=\"o\")"
   ]
  },
  {
   "cell_type": "markdown",
   "metadata": {},
   "source": [
    "More Gilded means lower score"
   ]
  },
  {
   "cell_type": "code",
   "execution_count": 11,
   "metadata": {},
   "outputs": [
    {
     "data": {
      "text/plain": [
       "<AxesSubplot:xlabel='neu'>"
      ]
     },
     "execution_count": 11,
     "metadata": {},
     "output_type": "execute_result"
    },
    {
     "data": {
      "image/png": "[encoded data removed]",
      "text/plain": [
       "<Figure size 432x288 with 1 Axes>"
      ]
     },
     "metadata": {
      "needs_background": "light"
     },
     "output_type": "display_data"
    }
   ],
   "source": [
    "df_model1.plot(x=\"neu\",y=\"Score\",style=\"o\")"
   ]
  },
  {
   "cell_type": "code",
   "execution_count": 12,
   "metadata": {},
   "outputs": [
    {
     "data": {
      "text/plain": [
       "<AxesSubplot:xlabel='pos'>"
      ]
     },
     "execution_count": 12,
     "metadata": {},
     "output_type": "execute_result"
    },
    {
     "data": {
      "image/png": "[encoded data removed]",
      "text/plain": [
       "<Figure size 432x288 with 1 Axes>"
      ]
     },
     "metadata": {
      "needs_background": "light"
     },
     "output_type": "display_data"
    }
   ],
   "source": [
    "df_model1.plot(x=\"pos\",y=\"Score\",style=\"o\")"
   ]
  },
  {
   "cell_type": "code",
   "execution_count": 13,
   "metadata": {},
   "outputs": [
    {
     "data": {
      "text/plain": [
       "<AxesSubplot:xlabel='neg'>"
      ]
     },
     "execution_count": 13,
     "metadata": {},
     "output_type": "execute_result"
    },
    {
     "data": {
      "image/png": "[encoded data removed]",
      "text/plain": [
       "<Figure size 432x288 with 1 Axes>"
      ]
     },
     "metadata": {
      "needs_background": "light"
     },
     "output_type": "display_data"
    }
   ],
   "source": [
    "df_model1.plot(x=\"neg\",y=\"Score\",style=\"o\")"
   ]
  },
  {
   "cell_type": "code",
   "execution_count": 14,
   "metadata": {},
   "outputs": [
    {
     "data": {
      "text/plain": [
       "<AxesSubplot:xlabel='compound'>"
      ]
     },
     "execution_count": 14,
     "metadata": {},
     "output_type": "execute_result"
    },
    {
     "data": {
      "image/png": "[encoded data removed]",
      "text/plain": [
       "<Figure size 432x288 with 1 Axes>"
      ]
     },
     "metadata": {
      "needs_background": "light"
     },
     "output_type": "display_data"
    }
   ],
   "source": [
    "df_model1.plot(x=\"compound\",y=\"Score\",style=\".\")"
   ]
  },
  {
   "cell_type": "markdown",
   "metadata": {},
   "source": [
    "# Data Preprocessing "
   ]
  },
  {
   "cell_type": "markdown",
   "metadata": {},
   "source": [
    "Now, going to do data preprocessing on Title(text) "
   ]
  },
  {
   "cell_type": "code",
   "execution_count": 15,
   "metadata": {},
   "outputs": [
    {
     "data": {
      "text/plain": [
       "0       House impeaches Trump for second time over Cap...\n",
       "1       I'm a 16 yr old blacksmith and I forged this w...\n",
       "2               Do some research before spouting nonsense\n",
       "3                  Moving boxes arrive at the White House\n",
       "4       “No One Took Us Seriously”: Black Cops Warned ...\n",
       "                              ...                        \n",
       "7466            Nothing to see here, I just get cold easy\n",
       "7467                                      I’m fine, Mama.\n",
       "7468                                no life gang RISE UP!\n",
       "7469                                      hmm interesting\n",
       "7470                       Why are you like this America?\n",
       "Name: Title, Length: 7471, dtype: object"
      ]
     },
     "execution_count": 15,
     "metadata": {},
     "output_type": "execute_result"
    }
   ],
   "source": [
    "df_pre_title=df_model1['Title']\n",
    "df_pre_title"
   ]
  },
  {
   "cell_type": "code",
   "execution_count": 16,
   "metadata": {},
   "outputs": [],
   "source": [
    "dftoken=pd.read_csv('tokens.csv')"
   ]
  },
  {
   "cell_type": "code",
   "execution_count": 17,
   "metadata": {},
   "outputs": [
    {
     "data": {
      "text/html": [
       "<div>\n",
       "<style scoped>\n",
       "    .dataframe tbody tr th:only-of-type {\n",
       "        vertical-align: middle;\n",
       "    }\n",
       "\n",
       "    .dataframe tbody tr th {\n",
       "        vertical-align: top;\n",
       "    }\n",
       "\n",
       "    .dataframe thead th {\n",
       "        text-align: right;\n",
       "    }\n",
       "</style>\n",
       "<table border=\"1\" class=\"dataframe\">\n",
       "  <thead>\n",
       "    <tr style=\"text-align: right;\">\n",
       "      <th></th>\n",
       "      <th>just</th>\n",
       "      <th>like</th>\n",
       "      <th>time</th>\n",
       "      <th>new</th>\n",
       "      <th>im</th>\n",
       "      <th>dont</th>\n",
       "      <th>trump</th>\n",
       "      <th>year</th>\n",
       "      <th>day</th>\n",
       "      <th>capitol</th>\n",
       "      <th>...</th>\n",
       "      <th>rjadenanimations</th>\n",
       "      <th>jaden</th>\n",
       "      <th>reposting</th>\n",
       "      <th>riyo</th>\n",
       "      <th>pawper</th>\n",
       "      <th>barbies</th>\n",
       "      <th>alain</th>\n",
       "      <th>medalist</th>\n",
       "      <th>klete</th>\n",
       "      <th>keller</th>\n",
       "    </tr>\n",
       "  </thead>\n",
       "  <tbody>\n",
       "    <tr>\n",
       "      <th>0</th>\n",
       "      <td>1</td>\n",
       "      <td>2</td>\n",
       "      <td>3</td>\n",
       "      <td>4</td>\n",
       "      <td>5</td>\n",
       "      <td>6</td>\n",
       "      <td>7</td>\n",
       "      <td>8</td>\n",
       "      <td>9</td>\n",
       "      <td>10</td>\n",
       "      <td>...</td>\n",
       "      <td>10352</td>\n",
       "      <td>10353</td>\n",
       "      <td>10354</td>\n",
       "      <td>10355</td>\n",
       "      <td>10356</td>\n",
       "      <td>10357</td>\n",
       "      <td>10358</td>\n",
       "      <td>10359</td>\n",
       "      <td>10360</td>\n",
       "      <td>10361</td>\n",
       "    </tr>\n",
       "  </tbody>\n",
       "</table>\n",
       "<p>1 rows × 10361 columns</p>\n",
       "</div>"
      ],
      "text/plain": [
       "   just  like  time  new  im  dont  trump  year  day  capitol  ...  \\\n",
       "0     1     2     3    4   5     6      7     8    9       10  ...   \n",
       "\n",
       "   rjadenanimations  jaden  reposting   riyo  pawper  barbies  alain  \\\n",
       "0             10352  10353      10354  10355   10356    10357  10358   \n",
       "\n",
       "   medalist  klete  keller  \n",
       "0     10359  10360   10361  \n",
       "\n",
       "[1 rows x 10361 columns]"
      ]
     },
     "execution_count": 17,
     "metadata": {},
     "output_type": "execute_result"
    }
   ],
   "source": [
    "dftoken.head()"
   ]
  },
  {
   "cell_type": "markdown",
   "metadata": {},
   "source": [
    "# Data Modelling"
   ]
  },
  {
   "cell_type": "code",
   "execution_count": 18,
   "metadata": {},
   "outputs": [
    {
     "data": {
      "text/plain": [
       "Index(['Title', 'Upvote_ratio', 'Score', 'Gilded', 'Over_18',\n",
       "       'Number_of_Comments', 'neg', 'neu', 'pos', 'compound'],\n",
       "      dtype='object')"
      ]
     },
     "execution_count": 18,
     "metadata": {},
     "output_type": "execute_result"
    }
   ],
   "source": [
    "df_model1.keys()"
   ]
  },
  {
   "cell_type": "code",
   "execution_count": 19,
   "metadata": {},
   "outputs": [
    {
     "data": {
      "text/html": [
       "<div>\n",
       "<style scoped>\n",
       "    .dataframe tbody tr th:only-of-type {\n",
       "        vertical-align: middle;\n",
       "    }\n",
       "\n",
       "    .dataframe tbody tr th {\n",
       "        vertical-align: top;\n",
       "    }\n",
       "\n",
       "    .dataframe thead th {\n",
       "        text-align: right;\n",
       "    }\n",
       "</style>\n",
       "<table border=\"1\" class=\"dataframe\">\n",
       "  <thead>\n",
       "    <tr style=\"text-align: right;\">\n",
       "      <th></th>\n",
       "      <th>Upvote_ratio</th>\n",
       "      <th>Gilded</th>\n",
       "      <th>Over_18</th>\n",
       "      <th>Number_of_Comments</th>\n",
       "      <th>neg</th>\n",
       "      <th>neu</th>\n",
       "      <th>pos</th>\n",
       "      <th>compound</th>\n",
       "    </tr>\n",
       "  </thead>\n",
       "  <tbody>\n",
       "    <tr>\n",
       "      <th>0</th>\n",
       "      <td>0.72</td>\n",
       "      <td>2</td>\n",
       "      <td>False</td>\n",
       "      <td>8801</td>\n",
       "      <td>0.292</td>\n",
       "      <td>0.708</td>\n",
       "      <td>0.000</td>\n",
       "      <td>-0.5106</td>\n",
       "    </tr>\n",
       "    <tr>\n",
       "      <th>1</th>\n",
       "      <td>0.90</td>\n",
       "      <td>0</td>\n",
       "      <td>False</td>\n",
       "      <td>443</td>\n",
       "      <td>0.000</td>\n",
       "      <td>0.633</td>\n",
       "      <td>0.367</td>\n",
       "      <td>0.8268</td>\n",
       "    </tr>\n",
       "    <tr>\n",
       "      <th>2</th>\n",
       "      <td>0.90</td>\n",
       "      <td>0</td>\n",
       "      <td>False</td>\n",
       "      <td>1008</td>\n",
       "      <td>0.351</td>\n",
       "      <td>0.649</td>\n",
       "      <td>0.000</td>\n",
       "      <td>-0.4019</td>\n",
       "    </tr>\n",
       "    <tr>\n",
       "      <th>3</th>\n",
       "      <td>0.81</td>\n",
       "      <td>6</td>\n",
       "      <td>False</td>\n",
       "      <td>4392</td>\n",
       "      <td>0.000</td>\n",
       "      <td>1.000</td>\n",
       "      <td>0.000</td>\n",
       "      <td>0.0000</td>\n",
       "    </tr>\n",
       "    <tr>\n",
       "      <th>4</th>\n",
       "      <td>0.98</td>\n",
       "      <td>0</td>\n",
       "      <td>False</td>\n",
       "      <td>157</td>\n",
       "      <td>0.319</td>\n",
       "      <td>0.681</td>\n",
       "      <td>0.000</td>\n",
       "      <td>-0.7269</td>\n",
       "    </tr>\n",
       "    <tr>\n",
       "      <th>...</th>\n",
       "      <td>...</td>\n",
       "      <td>...</td>\n",
       "      <td>...</td>\n",
       "      <td>...</td>\n",
       "      <td>...</td>\n",
       "      <td>...</td>\n",
       "      <td>...</td>\n",
       "      <td>...</td>\n",
       "    </tr>\n",
       "    <tr>\n",
       "      <th>7466</th>\n",
       "      <td>0.99</td>\n",
       "      <td>0</td>\n",
       "      <td>False</td>\n",
       "      <td>12</td>\n",
       "      <td>0.000</td>\n",
       "      <td>0.734</td>\n",
       "      <td>0.266</td>\n",
       "      <td>0.4404</td>\n",
       "    </tr>\n",
       "    <tr>\n",
       "      <th>7467</th>\n",
       "      <td>0.96</td>\n",
       "      <td>0</td>\n",
       "      <td>False</td>\n",
       "      <td>7</td>\n",
       "      <td>0.000</td>\n",
       "      <td>0.526</td>\n",
       "      <td>0.474</td>\n",
       "      <td>0.2023</td>\n",
       "    </tr>\n",
       "    <tr>\n",
       "      <th>7468</th>\n",
       "      <td>0.94</td>\n",
       "      <td>0</td>\n",
       "      <td>False</td>\n",
       "      <td>0</td>\n",
       "      <td>0.384</td>\n",
       "      <td>0.616</td>\n",
       "      <td>0.000</td>\n",
       "      <td>-0.3595</td>\n",
       "    </tr>\n",
       "    <tr>\n",
       "      <th>7469</th>\n",
       "      <td>0.98</td>\n",
       "      <td>0</td>\n",
       "      <td>False</td>\n",
       "      <td>227</td>\n",
       "      <td>0.000</td>\n",
       "      <td>0.270</td>\n",
       "      <td>0.730</td>\n",
       "      <td>0.4019</td>\n",
       "    </tr>\n",
       "    <tr>\n",
       "      <th>7470</th>\n",
       "      <td>0.87</td>\n",
       "      <td>0</td>\n",
       "      <td>False</td>\n",
       "      <td>10</td>\n",
       "      <td>0.000</td>\n",
       "      <td>0.667</td>\n",
       "      <td>0.333</td>\n",
       "      <td>0.3612</td>\n",
       "    </tr>\n",
       "  </tbody>\n",
       "</table>\n",
       "<p>7471 rows × 8 columns</p>\n",
       "</div>"
      ],
      "text/plain": [
       "      Upvote_ratio  Gilded  Over_18  Number_of_Comments    neg    neu    pos  \\\n",
       "0             0.72       2    False                8801  0.292  0.708  0.000   \n",
       "1             0.90       0    False                 443  0.000  0.633  0.367   \n",
       "2             0.90       0    False                1008  0.351  0.649  0.000   \n",
       "3             0.81       6    False                4392  0.000  1.000  0.000   \n",
       "4             0.98       0    False                 157  0.319  0.681  0.000   \n",
       "...            ...     ...      ...                 ...    ...    ...    ...   \n",
       "7466          0.99       0    False                  12  0.000  0.734  0.266   \n",
       "7467          0.96       0    False                   7  0.000  0.526  0.474   \n",
       "7468          0.94       0    False                   0  0.384  0.616  0.000   \n",
       "7469          0.98       0    False                 227  0.000  0.270  0.730   \n",
       "7470          0.87       0    False                  10  0.000  0.667  0.333   \n",
       "\n",
       "      compound  \n",
       "0      -0.5106  \n",
       "1       0.8268  \n",
       "2      -0.4019  \n",
       "3       0.0000  \n",
       "4      -0.7269  \n",
       "...        ...  \n",
       "7466    0.4404  \n",
       "7467    0.2023  \n",
       "7468   -0.3595  \n",
       "7469    0.4019  \n",
       "7470    0.3612  \n",
       "\n",
       "[7471 rows x 8 columns]"
      ]
     },
     "execution_count": 19,
     "metadata": {},
     "output_type": "execute_result"
    }
   ],
   "source": [
    "x1=df_model1.iloc[:,[1,3,4,5,6,7,8,9]]\n",
    "x1"
   ]
  },
  {
   "cell_type": "code",
   "execution_count": 20,
   "metadata": {},
   "outputs": [],
   "source": [
    "y1=df_model1['Score']"
   ]
  },
  {
   "cell_type": "code",
   "execution_count": 21,
   "metadata": {},
   "outputs": [],
   "source": [
    "from sklearn.model_selection import train_test_split\n",
    "X_train,X_test,Y_train,Y_test=train_test_split(x1,y1,test_size=0.2,random_state=0)"
   ]
  },
  {
   "cell_type": "code",
   "execution_count": 22,
   "metadata": {},
   "outputs": [],
   "source": [
    "from sklearn.ensemble import RandomForestRegressor"
   ]
  },
  {
   "cell_type": "code",
   "execution_count": 23,
   "metadata": {},
   "outputs": [],
   "source": [
    "RfReg=RandomForestRegressor(n_estimators=10,random_state=0)"
   ]
  },
  {
   "cell_type": "code",
   "execution_count": 24,
   "metadata": {},
   "outputs": [
    {
     "data": {
      "text/plain": [
       "RandomForestRegressor(n_estimators=10, random_state=0)"
      ]
     },
     "execution_count": 24,
     "metadata": {},
     "output_type": "execute_result"
    }
   ],
   "source": [
    "RfReg.fit(X_train,Y_train)"
   ]
  },
  {
   "cell_type": "code",
   "execution_count": 25,
   "metadata": {},
   "outputs": [],
   "source": [
    "y_pred=RfReg.predict((X_test))"
   ]
  },
  {
   "cell_type": "code",
   "execution_count": 26,
   "metadata": {},
   "outputs": [
    {
     "data": {
      "text/plain": [
       "0.5282826300523611"
      ]
     },
     "execution_count": 26,
     "metadata": {},
     "output_type": "execute_result"
    }
   ],
   "source": [
    "from sklearn import metrics\n",
    "r_sq=metrics.r2_score(Y_test,y_pred)\n",
    "r_sq"
   ]
  },
  {
   "cell_type": "code",
   "execution_count": 27,
   "metadata": {},
   "outputs": [
    {
     "data": {
      "text/html": [
       "<div>\n",
       "<style scoped>\n",
       "    .dataframe tbody tr th:only-of-type {\n",
       "        vertical-align: middle;\n",
       "    }\n",
       "\n",
       "    .dataframe tbody tr th {\n",
       "        vertical-align: top;\n",
       "    }\n",
       "\n",
       "    .dataframe thead th {\n",
       "        text-align: right;\n",
       "    }\n",
       "</style>\n",
       "<table border=\"1\" class=\"dataframe\">\n",
       "  <thead>\n",
       "    <tr style=\"text-align: right;\">\n",
       "      <th></th>\n",
       "      <th>Gilded</th>\n",
       "      <th>Number_of_Comments</th>\n",
       "    </tr>\n",
       "  </thead>\n",
       "  <tbody>\n",
       "    <tr>\n",
       "      <th>0</th>\n",
       "      <td>2</td>\n",
       "      <td>8801</td>\n",
       "    </tr>\n",
       "    <tr>\n",
       "      <th>1</th>\n",
       "      <td>0</td>\n",
       "      <td>443</td>\n",
       "    </tr>\n",
       "    <tr>\n",
       "      <th>2</th>\n",
       "      <td>0</td>\n",
       "      <td>1008</td>\n",
       "    </tr>\n",
       "    <tr>\n",
       "      <th>3</th>\n",
       "      <td>6</td>\n",
       "      <td>4392</td>\n",
       "    </tr>\n",
       "    <tr>\n",
       "      <th>4</th>\n",
       "      <td>0</td>\n",
       "      <td>157</td>\n",
       "    </tr>\n",
       "    <tr>\n",
       "      <th>...</th>\n",
       "      <td>...</td>\n",
       "      <td>...</td>\n",
       "    </tr>\n",
       "    <tr>\n",
       "      <th>7466</th>\n",
       "      <td>0</td>\n",
       "      <td>12</td>\n",
       "    </tr>\n",
       "    <tr>\n",
       "      <th>7467</th>\n",
       "      <td>0</td>\n",
       "      <td>7</td>\n",
       "    </tr>\n",
       "    <tr>\n",
       "      <th>7468</th>\n",
       "      <td>0</td>\n",
       "      <td>0</td>\n",
       "    </tr>\n",
       "    <tr>\n",
       "      <th>7469</th>\n",
       "      <td>0</td>\n",
       "      <td>227</td>\n",
       "    </tr>\n",
       "    <tr>\n",
       "      <th>7470</th>\n",
       "      <td>0</td>\n",
       "      <td>10</td>\n",
       "    </tr>\n",
       "  </tbody>\n",
       "</table>\n",
       "<p>7471 rows × 2 columns</p>\n",
       "</div>"
      ],
      "text/plain": [
       "      Gilded  Number_of_Comments\n",
       "0          2                8801\n",
       "1          0                 443\n",
       "2          0                1008\n",
       "3          6                4392\n",
       "4          0                 157\n",
       "...      ...                 ...\n",
       "7466       0                  12\n",
       "7467       0                   7\n",
       "7468       0                   0\n",
       "7469       0                 227\n",
       "7470       0                  10\n",
       "\n",
       "[7471 rows x 2 columns]"
      ]
     },
     "execution_count": 27,
     "metadata": {},
     "output_type": "execute_result"
    }
   ],
   "source": [
    "x2=df_model1.iloc[:,[3,5]]\n",
    "x2"
   ]
  },
  {
   "cell_type": "code",
   "execution_count": 28,
   "metadata": {},
   "outputs": [],
   "source": [
    "X_train,X_test,Y_train,Y_test=train_test_split(x2,y1,test_size=0.2,random_state=0)\n",
    "Rf2=RandomForestRegressor(n_estimators=10,random_state=0)\n",
    "Rf2.fit(X_train,Y_train)\n",
    "y2_pred=Rf2.predict((X_test))"
   ]
  },
  {
   "cell_type": "code",
   "execution_count": 29,
   "metadata": {},
   "outputs": [
    {
     "data": {
      "text/plain": [
       "0.3590268687409297"
      ]
     },
     "execution_count": 29,
     "metadata": {},
     "output_type": "execute_result"
    }
   ],
   "source": [
    "r_sq2=metrics.r2_score(Y_test,y2_pred)\n",
    "r_sq2"
   ]
  },
  {
   "cell_type": "code",
   "execution_count": 30,
   "metadata": {},
   "outputs": [
    {
     "data": {
      "text/plain": [
       "pandas.core.frame.DataFrame"
      ]
     },
     "execution_count": 30,
     "metadata": {},
     "output_type": "execute_result"
    }
   ],
   "source": [
    "type(dftoken)"
   ]
  },
  {
   "cell_type": "code",
   "execution_count": 31,
   "metadata": {},
   "outputs": [
    {
     "data": {
      "text/plain": [
       "Index(['just', 'like', 'time', 'new', 'im', 'dont', 'trump', 'year', 'day',\n",
       "       'capitol',\n",
       "       ...\n",
       "       'rjadenanimations', 'jaden', 'reposting', 'riyo', 'pawper', 'barbies',\n",
       "       'alain', 'medalist', 'klete', 'keller'],\n",
       "      dtype='object', length=10361)"
      ]
     },
     "execution_count": 31,
     "metadata": {},
     "output_type": "execute_result"
    }
   ],
   "source": [
    "dftoken.keys()"
   ]
  },
  {
   "cell_type": "code",
   "execution_count": 32,
   "metadata": {},
   "outputs": [],
   "source": [
    "dfemb=pd.read_csv('embedded.csv')"
   ]
  },
  {
   "cell_type": "code",
   "execution_count": 30,
   "metadata": {},
   "outputs": [
    {
     "data": {
      "text/html": [
       "<div>\n",
       "<style scoped>\n",
       "    .dataframe tbody tr th:only-of-type {\n",
       "        vertical-align: middle;\n",
       "    }\n",
       "\n",
       "    .dataframe tbody tr th {\n",
       "        vertical-align: top;\n",
       "    }\n",
       "\n",
       "    .dataframe thead th {\n",
       "        text-align: right;\n",
       "    }\n",
       "</style>\n",
       "<table border=\"1\" class=\"dataframe\">\n",
       "  <thead>\n",
       "    <tr style=\"text-align: right;\">\n",
       "      <th></th>\n",
       "      <th>0 1 2 3 4 5 6 7 8 9 10 11 12 13 14 15 16 17 18 19 20 21 22 23 24 25 26 27 28 29 30 31 32 33 34 35 36 37 38 39 40 41 42 43 44 45 46 47 48 49 50 51 52 53 54 55 56 57 58 59 60 61 62 63 64 65 66 67 68 69 70 71 72 73 74 75 76 77 78 79 80 81 82 83 84 85 86 87 88 89 90 91 92 93 94 95 96 97 98 99</th>\n",
       "    </tr>\n",
       "  </thead>\n",
       "  <tbody>\n",
       "    <tr>\n",
       "      <th>0</th>\n",
       "      <td>0.00 0.00 0.00 0.00 0.00 0.00 0.00 0.00 0.00 0...</td>\n",
       "    </tr>\n",
       "    <tr>\n",
       "      <th>1</th>\n",
       "      <td>0.08 0.39 0.90 -0.30 -0.33 0.60 0.23 0.59 0.13...</td>\n",
       "    </tr>\n",
       "    <tr>\n",
       "      <th>2</th>\n",
       "      <td>-0.27 0.82 0.70 -0.72 0.09 0.20 -0.52 -0.24 -0...</td>\n",
       "    </tr>\n",
       "    <tr>\n",
       "      <th>3</th>\n",
       "      <td>-0.02 -0.03 0.36 -0.02 -0.55 0.32 0.01 0.35 -0...</td>\n",
       "    </tr>\n",
       "    <tr>\n",
       "      <th>4</th>\n",
       "      <td>-0.04 0.19 0.66 -0.49 0.32 -0.34 -0.07 0.31 -0...</td>\n",
       "    </tr>\n",
       "  </tbody>\n",
       "</table>\n",
       "</div>"
      ],
      "text/plain": [
       "  0 1 2 3 4 5 6 7 8 9 10 11 12 13 14 15 16 17 18 19 20 21 22 23 24 25 26 27 28 29 30 31 32 33 34 35 36 37 38 39 40 41 42 43 44 45 46 47 48 49 50 51 52 53 54 55 56 57 58 59 60 61 62 63 64 65 66 67 68 69 70 71 72 73 74 75 76 77 78 79 80 81 82 83 84 85 86 87 88 89 90 91 92 93 94 95 96 97 98 99\n",
       "0  0.00 0.00 0.00 0.00 0.00 0.00 0.00 0.00 0.00 0...                                                                                                                                                                                                                                               \n",
       "1  0.08 0.39 0.90 -0.30 -0.33 0.60 0.23 0.59 0.13...                                                                                                                                                                                                                                               \n",
       "2  -0.27 0.82 0.70 -0.72 0.09 0.20 -0.52 -0.24 -0...                                                                                                                                                                                                                                               \n",
       "3  -0.02 -0.03 0.36 -0.02 -0.55 0.32 0.01 0.35 -0...                                                                                                                                                                                                                                               \n",
       "4  -0.04 0.19 0.66 -0.49 0.32 -0.34 -0.07 0.31 -0...                                                                                                                                                                                                                                               "
      ]
     },
     "execution_count": 30,
     "metadata": {},
     "output_type": "execute_result"
    }
   ],
   "source": [
    "dfemb.head()"
   ]
  },
  {
   "cell_type": "code",
   "execution_count": 32,
   "metadata": {},
   "outputs": [
    {
     "data": {
      "text/plain": [
       "(10362, 1)"
      ]
     },
     "execution_count": 32,
     "metadata": {},
     "output_type": "execute_result"
    }
   ],
   "source": [
    "dfemb.shape"
   ]
  }
 ],
 "metadata": {
  "kernelspec": {
   "display_name": "Python 3",
   "language": "python",
   "name": "python3"
  },
  "language_info": {
   "codemirror_mode": {
    "name": "ipython",
    "version": 3
   },
   "file_extension": ".py",
   "mimetype": "text/x-python",
   "name": "python",
   "nbconvert_exporter": "python",
   "pygments_lexer": "ipython3",
   "version": "3.9.0"
  }
 },
 "nbformat": 4,
 "nbformat_minor": 4
}
